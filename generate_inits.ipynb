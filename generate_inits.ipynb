{
  "nbformat": 4,
  "nbformat_minor": 0,
  "metadata": {
    "colab": {
      "provenance": [],
      "authorship_tag": "ABX9TyOWRLH4G9/YuX/6Br8XWbdc",
      "include_colab_link": true
    },
    "kernelspec": {
      "name": "python3",
      "display_name": "Python 3"
    },
    "language_info": {
      "name": "python"
    }
  },
  "cells": [
    {
      "cell_type": "markdown",
      "metadata": {
        "id": "view-in-github",
        "colab_type": "text"
      },
      "source": [
        "<a href=\"https://colab.research.google.com/github/hanjiadong0/chatbot-/blob/modular-construction-of-main-document/generate_inits.ipynb\" target=\"_parent\"><img src=\"https://colab.research.google.com/assets/colab-badge.svg\" alt=\"Open In Colab\"/></a>"
      ]
    },
    {
      "cell_type": "code",
      "metadata": {
        "colab": {
          "base_uri": "https://localhost:8080/"
        },
        "id": "ec3225eb",
        "outputId": "c7294773-9beb-437d-9e40-5062b9fd7383"
      },
      "source": [
        "import os\n",
        "from pathlib import Path\n",
        "\n",
        "# Define all package directories based on your project structure\n",
        "package_dirs = [\n",
        "    \"thesis_assistant\",\n",
        "    \"thesis_assistant/ethics\",\n",
        "    \"thesis_assistant/writing\",\n",
        "    \"thesis_assistant/brainstorming\",\n",
        "    \"thesis_assistant/emotion\",\n",
        "    \"thesis_assistant/rl_agent\",\n",
        "    \"thesis_assistant/langgraph_flow\",\n",
        "    \"thesis_assistant/orchestrator\"\n",
        "]\n",
        "\n",
        "# Create __init__.py in each package directory (if not already present)\n",
        "for package_dir_str in package_dirs:\n",
        "    package_dir = Path(package_dir_str)\n",
        "    init_file_path = package_dir / \"__init__.py\"\n",
        "\n",
        "    # Make sure the directory exists\n",
        "    package_dir.mkdir(parents=True, exist_ok=True)\n",
        "\n",
        "    # Create an empty __init__.py if it doesn't exist\n",
        "    if not init_file_path.exists():\n",
        "        try:\n",
        "            init_file_path.touch()\n",
        "            print(f\"✅ Created: {init_file_path}\")\n",
        "        except OSError as e:\n",
        "            print(f\"❌ Error creating {init_file_path}: {e}\")\n",
        "    else:\n",
        "        print(f\"⚠️ Already exists: {init_file_path}\")"
      ],
      "execution_count": 1,
      "outputs": [
        {
          "output_type": "stream",
          "name": "stdout",
          "text": [
            "✅ Created: thesis_assistant/__init__.py\n",
            "✅ Created: thesis_assistant/ethics/__init__.py\n",
            "✅ Created: thesis_assistant/writing/__init__.py\n",
            "✅ Created: thesis_assistant/brainstorming/__init__.py\n",
            "✅ Created: thesis_assistant/emotion/__init__.py\n",
            "✅ Created: thesis_assistant/rl_agent/__init__.py\n",
            "✅ Created: thesis_assistant/langgraph_flow/__init__.py\n",
            "✅ Created: thesis_assistant/orchestrator/__init__.py\n"
          ]
        }
      ]
    }
  ]
}